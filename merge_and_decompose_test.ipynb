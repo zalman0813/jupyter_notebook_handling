{
 "cells": [
  {
   "cell_type": "code",
   "execution_count": 65,
   "metadata": {},
   "outputs": [],
   "source": [
    "import os"
   ]
  },
  {
   "cell_type": "code",
   "execution_count": 66,
   "metadata": {},
   "outputs": [],
   "source": [
    "notebooks_to_merge = [file for file in os.listdir(os.getcwd()) if file.endswith('ipynb')]"
   ]
  },
  {
   "cell_type": "code",
   "execution_count": 67,
   "metadata": {},
   "outputs": [
    {
     "data": {
      "text/plain": [
       "['merge.ipynb', 'cell_2.ipynb', 'cell_3.ipynb', 'cell_1.ipynb']"
      ]
     },
     "execution_count": 67,
     "metadata": {},
     "output_type": "execute_result"
    }
   ],
   "source": [
    "notebooks_to_merge"
   ]
  },
  {
   "cell_type": "code",
   "execution_count": 68,
   "metadata": {},
   "outputs": [],
   "source": [
    "import json"
   ]
  },
  {
   "cell_type": "code",
   "execution_count": 75,
   "metadata": {},
   "outputs": [],
   "source": [
    "combined_nb = None\n",
    "combined_nb_file_name = \"concatenate_nb.ipynb\"\n",
    "for i, notebook in enumerate(notebooks_to_merge[1:]):\n",
    "    with open(notebook, mode = 'r', encoding='utf-8') as nb:\n",
    "        sub_nb = json.load(nb)\n",
    "        if i == 0:\n",
    "            combined_nb = sub_nb\n",
    "        else:\n",
    "            combined_nb['cells'].extend(sub_nb['cells'])\n",
    "with open(combined_nb_file_name, mode = 'w', encoding='utf-8') as f:\n",
    "    json.dump(combined_nb, f)"
   ]
  },
  {
   "cell_type": "code",
   "execution_count": 76,
   "metadata": {},
   "outputs": [],
   "source": [
    "import json\n",
    "combined_nb_file_name = \"concatenate_nb.ipynb\"\n",
    "with open(combined_nb_file_name, mode = 'r', encoding='utf-8') as f:\n",
    "    combined_nb = json.load(f)"
   ]
  },
  {
   "cell_type": "code",
   "execution_count": 77,
   "metadata": {},
   "outputs": [
    {
     "data": {
      "text/plain": [
       "{'cells': [{'cell_type': 'markdown',\n",
       "   'metadata': {},\n",
       "   'source': ['## STAGE: A_Test_B']},\n",
       "  {'cell_type': 'code',\n",
       "   'execution_count': None,\n",
       "   'metadata': {},\n",
       "   'outputs': [],\n",
       "   'source': ['z = x + y']},\n",
       "  {'cell_type': 'markdown', 'metadata': {}, 'source': ['## STAGE: B_TEST_C']},\n",
       "  {'cell_type': 'code',\n",
       "   'execution_count': None,\n",
       "   'metadata': {},\n",
       "   'outputs': [],\n",
       "   'source': ['print(z)']},\n",
       "  {'cell_type': 'markdown', 'metadata': {}, 'source': ['## STAGE: Test_A']},\n",
       "  {'cell_type': 'code',\n",
       "   'execution_count': None,\n",
       "   'metadata': {},\n",
       "   'outputs': [],\n",
       "   'source': ['x = 1\\n', 'y = 2']}],\n",
       " 'metadata': {'kernelspec': {'display_name': 'Python 3',\n",
       "   'language': 'python',\n",
       "   'name': 'python3'},\n",
       "  'language_info': {'codemirror_mode': {'name': 'ipython', 'version': 3},\n",
       "   'file_extension': '.py',\n",
       "   'mimetype': 'text/x-python',\n",
       "   'name': 'python',\n",
       "   'nbconvert_exporter': 'python',\n",
       "   'pygments_lexer': 'ipython3',\n",
       "   'version': '3.6.5'}},\n",
       " 'nbformat': 4,\n",
       " 'nbformat_minor': 2}"
      ]
     },
     "execution_count": 77,
     "metadata": {},
     "output_type": "execute_result"
    }
   ],
   "source": [
    "combined_nb"
   ]
  },
  {
   "cell_type": "code",
   "execution_count": 78,
   "metadata": {},
   "outputs": [
    {
     "data": {
      "text/plain": [
       "{'cells': [{'cell_type': 'markdown',\n",
       "   'metadata': {},\n",
       "   'source': ['## STAGE: A_Test_B']},\n",
       "  {'cell_type': 'code',\n",
       "   'execution_count': None,\n",
       "   'metadata': {},\n",
       "   'outputs': [],\n",
       "   'source': ['z = x + y']},\n",
       "  {'cell_type': 'markdown', 'metadata': {}, 'source': ['## STAGE: B_TEST_C']},\n",
       "  {'cell_type': 'code',\n",
       "   'execution_count': None,\n",
       "   'metadata': {},\n",
       "   'outputs': [],\n",
       "   'source': ['print(z)']},\n",
       "  {'cell_type': 'markdown', 'metadata': {}, 'source': ['## STAGE: Test_A']},\n",
       "  {'cell_type': 'code',\n",
       "   'execution_count': None,\n",
       "   'metadata': {},\n",
       "   'outputs': [],\n",
       "   'source': ['x = 1\\n', 'y = 2']}],\n",
       " 'metadata': {'kernelspec': {'display_name': 'Python 3',\n",
       "   'language': 'python',\n",
       "   'name': 'python3'},\n",
       "  'language_info': {'codemirror_mode': {'name': 'ipython', 'version': 3},\n",
       "   'file_extension': '.py',\n",
       "   'mimetype': 'text/x-python',\n",
       "   'name': 'python',\n",
       "   'nbconvert_exporter': 'python',\n",
       "   'pygments_lexer': 'ipython3',\n",
       "   'version': '3.6.5'}},\n",
       " 'nbformat': 4,\n",
       " 'nbformat_minor': 2}"
      ]
     },
     "execution_count": 78,
     "metadata": {},
     "output_type": "execute_result"
    }
   ],
   "source": [
    "combined_nb"
   ]
  },
  {
   "cell_type": "code",
   "execution_count": 79,
   "metadata": {},
   "outputs": [
    {
     "data": {
      "text/plain": [
       "'STAGE: A_Test_B'"
      ]
     },
     "execution_count": 79,
     "metadata": {},
     "output_type": "execute_result"
    }
   ],
   "source": [
    "\"## STAGE: A_Test_B\"[3:]"
   ]
  },
  {
   "cell_type": "code",
   "execution_count": 128,
   "metadata": {},
   "outputs": [
    {
     "name": "stdout",
     "output_type": "stream",
     "text": [
      "STAGE: A_Test_B.ipynb\n",
      "STAGE: B_TEST_C.ipynb\n",
      "STAGE: Test_A.ipynb\n"
     ]
    }
   ],
   "source": [
    "metadata = combined_nb['metadata']\n",
    "first_stage = combined_nb['cells'][0]\n",
    "decomposed_nb_file_name = first_stage['source'][0][3:] + '.ipynb'\n",
    "nb['cells'] = [first_stage]\n",
    "nb['metadata'] = metadata\n",
    "nb['nbformat']= 4\n",
    "nb['nbformat_minor']= 2\n",
    "for cell in combined_nb['cells'][1:]:\n",
    "    if cell['cell_type'] == 'markdown' and cell['source'][0].startswith('## STAGE'):\n",
    "        with open(decomposed_nb_file_name, mode = 'w', encoding='utf-8') as f:\n",
    "            print(decomposed_nb_file_name)\n",
    "            json.dump(nb, f)\n",
    "        ## initail nb stage\n",
    "        decomposed_nb_file_name = cell['source'][0][3:] + '.ipynb'\n",
    "        nb['cells'] = [cell]\n",
    "    else:\n",
    "        nb['cells'].extend([cell])\n",
    "with open(decomposed_nb_file_name, mode = 'w', encoding='utf-8') as f:\n",
    "            json.dump(nb, f)\n",
    "print(decomposed_nb_file_name)"
   ]
  },
  {
   "cell_type": "code",
   "execution_count": 129,
   "metadata": {},
   "outputs": [],
   "source": [
    "def decompose_nb_stages(file_name, markdown_header='STAGE'):\n",
    "    with open(file_name, mode = 'r', encoding='utf-8') as f:\n",
    "        combined_nb = json.load(f)\n",
    "    metadata = combined_nb['metadata']\n",
    "    first_stage = combined_nb['cells'][0]\n",
    "    decomposed_nb_file_name = first_stage['source'][0][3:] + '.ipynb'\n",
    "    nb['cells'] = [first_stage]\n",
    "    nb['metadata'] = metadata\n",
    "    nb['nbformat']= 4\n",
    "    nb['nbformat_minor']= 2\n",
    "    for cell in combined_nb['cells'][1:]:\n",
    "        if cell['cell_type'] == 'markdown' and cell['source'][0].startswith(f'## {markdown_header}'):\n",
    "            with open(decomposed_nb_file_name, mode = 'w', encoding='utf-8') as f:\n",
    "                print(decomposed_nb_file_name)\n",
    "                json.dump(nb, f)\n",
    "            ## initail nb stage\n",
    "            decomposed_nb_file_name = cell['source'][0][3:] + '.ipynb'\n",
    "            nb['cells'] = [cell]\n",
    "        else:\n",
    "            nb['cells'].extend([cell])\n",
    "    with open(decomposed_nb_file_name, mode = 'w', encoding='utf-8') as f:\n",
    "                json.dump(nb, f)\n",
    "    print(decomposed_nb_file_name)"
   ]
  },
  {
   "cell_type": "code",
   "execution_count": 131,
   "metadata": {},
   "outputs": [
    {
     "name": "stdout",
     "output_type": "stream",
     "text": [
      "STAGE: A_Test_B.ipynb\n",
      "STAGE: B_TEST_C.ipynb\n",
      "STAGE: Test_A.ipynb\n"
     ]
    }
   ],
   "source": [
    "decompose_nb_stages('concatenate_nb.ipynb')"
   ]
  },
  {
   "cell_type": "code",
   "execution_count": 125,
   "metadata": {},
   "outputs": [
    {
     "data": {
      "text/plain": [
       "{'cells': [{'cell_type': 'markdown',\n",
       "   'metadata': {},\n",
       "   'source': ['## STAGE: A_Test_B']},\n",
       "  {'cell_type': 'code',\n",
       "   'execution_count': None,\n",
       "   'metadata': {},\n",
       "   'outputs': [],\n",
       "   'source': ['z = x + y']},\n",
       "  {'cell_type': 'markdown', 'metadata': {}, 'source': ['## STAGE: B_TEST_C']},\n",
       "  {'cell_type': 'code',\n",
       "   'execution_count': None,\n",
       "   'metadata': {},\n",
       "   'outputs': [],\n",
       "   'source': ['print(z)']},\n",
       "  {'cell_type': 'markdown', 'metadata': {}, 'source': ['## STAGE: Test_A']},\n",
       "  {'cell_type': 'code',\n",
       "   'execution_count': None,\n",
       "   'metadata': {},\n",
       "   'outputs': [],\n",
       "   'source': ['x = 1\\n', 'y = 2']}],\n",
       " 'metadata': {'kernelspec': {'display_name': 'Python 3',\n",
       "   'language': 'python',\n",
       "   'name': 'python3'},\n",
       "  'language_info': {'codemirror_mode': {'name': 'ipython', 'version': 3},\n",
       "   'file_extension': '.py',\n",
       "   'mimetype': 'text/x-python',\n",
       "   'name': 'python',\n",
       "   'nbconvert_exporter': 'python',\n",
       "   'pygments_lexer': 'ipython3',\n",
       "   'version': '3.6.5'}},\n",
       " 'nbformat': 4,\n",
       " 'nbformat_minor': 2}"
      ]
     },
     "execution_count": 125,
     "metadata": {},
     "output_type": "execute_result"
    }
   ],
   "source": [
    "combined_nb"
   ]
  },
  {
   "cell_type": "code",
   "execution_count": null,
   "metadata": {},
   "outputs": [],
   "source": []
  }
 ],
 "metadata": {
  "kernelspec": {
   "display_name": "Python 3",
   "language": "python",
   "name": "python3"
  },
  "language_info": {
   "codemirror_mode": {
    "name": "ipython",
    "version": 3
   },
   "file_extension": ".py",
   "mimetype": "text/x-python",
   "name": "python",
   "nbconvert_exporter": "python",
   "pygments_lexer": "ipython3",
   "version": "3.6.5"
  }
 },
 "nbformat": 4,
 "nbformat_minor": 2
}
